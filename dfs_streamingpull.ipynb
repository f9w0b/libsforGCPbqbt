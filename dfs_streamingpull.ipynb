{
 "cells": [
  {
   "cell_type": "code",
   "execution_count": null,
   "id": "37a65602-a7e8-4b2e-ad23-6c32ecc31ec8",
   "metadata": {},
   "outputs": [],
   "source": [
    "# ! pip install google-cloud-pubsub pandas\n",
    "# ! pip install avro\n",
    "# https://www.youtube.com/watch?v=7wf1HhYQiDg&t=522s - Jupyter lab introduction"
   ]
  },
  {
   "cell_type": "raw",
   "id": "3521e046-2b09-411d-9189-778615972cfc",
   "metadata": {},
   "source": [
    "# %qtconsole"
   ]
  },
  {
   "cell_type": "code",
   "execution_count": 1,
   "id": "e0a9eb0d-0abf-4c46-8318-d3d9c3755725",
   "metadata": {},
   "outputs": [],
   "source": [
    "from google.cloud import bigquery\n",
    "from google.cloud import pubsub_v1\n",
    "from google.cloud.pubsub_v1.types import PullRequest\n",
    "import pandas as pd\n",
    "import avro.schema #import the avro schema\n",
    "from avro.io import DatumReader, BinaryDecoder\n",
    "from io import BytesIO\n",
    "import time\n",
    "\n",
    "projectId = 'grounded-gizmo-394701'\n",
    "datasetId = 'test_ucarRT'\n",
    "tableId = 'ucar_rt_1'\n",
    "topicName = 'something'\n",
    "subName = 'something-sub-2'\n",
    "\n",
    "# Initialize a BigQuery client.\n",
    "# removed client = bigquery.Client(project=projectId)\n",
    "client = bigquery.Client()\n",
    "\n",
    "#initailzie whatever pubsub ur reading from\n",
    "# removed subscriber = pubsub_v1.SubscriberClient(project=projectId)\n",
    "subscriber = pubsub_v1.SubscriberClient()\n",
    "\n",
    "# Define your query. \n",
    "query = f\"\"\"\n",
    "SELECT * FROM `{projectId}.{datasetId}.{tableId}`;\n",
    "\"\"\""
   ]
  },
  {
   "cell_type": "code",
   "execution_count": 81,
   "id": "85cb203c-b8bb-4c2f-8ec8-50e64dcd6c11",
   "metadata": {
    "jupyter": {
     "source_hidden": true
    },
    "tags": []
   },
   "outputs": [],
   "source": [
    "#query result\n",
    "results = client.query(query).to_dataframe().tail(9)\n",
    "# results = client.query(query).to_dataframe().head(10)"
   ]
  },
  {
   "cell_type": "code",
   "execution_count": 82,
   "id": "c9fe6086-719a-4af8-87ca-d6d955a11bd7",
   "metadata": {
    "tags": []
   },
   "outputs": [],
   "source": [
    "# display(results)"
   ]
  },
  {
   "cell_type": "code",
   "execution_count": 83,
   "id": "13b6415f-8b3d-42e1-918a-3452e0b8a815",
   "metadata": {
    "tags": []
   },
   "outputs": [],
   "source": [
    "schema_path = 'avro.avsc'\n",
    "with open(schema_path, 'r') as f:\n",
    "    schema = avro.schema.parse(f.read())\n",
    "\n",
    "#DatumReader requires a schema to know the structure of the data it will be decoding.\n",
    "reader = DatumReader(schema)"
   ]
  },
  {
   "cell_type": "code",
   "execution_count": 84,
   "id": "6d3f498d-2d37-4f6d-aae7-9b14892795ad",
   "metadata": {},
   "outputs": [
    {
     "name": "stdout",
     "output_type": "stream",
     "text": [
      "projects/grounded-gizmo-394701/subscriptions/subscribe_vertex\n"
     ]
    }
   ],
   "source": [
    "subscription_path = subscriber.subscription_path(projectId, \"subscribe_vertex\")\n",
    "print(subscription_path)\n",
    "NUM_MESSAGES = 9 "
   ]
  },
  {
   "cell_type": "code",
   "execution_count": 74,
   "id": "aa362a95-bf84-4546-b1de-d9a06bd6b8b7",
   "metadata": {
    "tags": []
   },
   "outputs": [],
   "source": [
    "# V2\n",
    "# This list will accumulate the messages\n",
    "accumulated_data = []"
   ]
  },
  {
   "cell_type": "code",
   "execution_count": 62,
   "id": "c0ba38d7-bf09-420b-b863-c7407693a0c8",
   "metadata": {
    "jupyter": {
     "source_hidden": true
    },
    "tags": []
   },
   "outputs": [],
   "source": [
    "# ## callback message V1\n",
    "\n",
    "# def callback(message):\n",
    "#     #bytes UI encapsulate the avro buffer data and return memory bytes \n",
    "#     bytes_reader = BytesIO(message.data)\n",
    "#     # get the binary decoder to decode messages\n",
    "#     decoder = BinaryDecoder(bytes_reader)\n",
    "#     # the avroreader known as reader from DatumReader object, parses the decoded messages into a python dictionary format\n",
    "#     message_data = reader.read(decoder)\n",
    "#     accumulated_data.append(message_data)\n",
    "#     print(f\"Received message: {message_data}\")\n",
    "#     message.ack()"
   ]
  },
  {
   "cell_type": "code",
   "execution_count": 75,
   "id": "98b7f70d-d31a-4eb5-b351-5c04d79759b1",
   "metadata": {
    "tags": []
   },
   "outputs": [],
   "source": [
    "# callback message V2\n",
    "\n",
    "def callback(message: pubsub_v1.subscriber.message.Message) -> None:\n",
    "    #bytes UI encapsulate the avro buffer data and return memory bytes \n",
    "    bytes_reader = BytesIO(message.data)\n",
    "    # get the binary decoder to decode messages\n",
    "    decoder = BinaryDecoder(bytes_reader)\n",
    "    # the avroreader known as reader from DatumReader object, parses the decoded messages into a python dictionary format\n",
    "    message_data = reader.read(decoder)\n",
    "    accumulated_data.append(message_data)\n",
    "    print(f\"Received message: {message_data}\")\n",
    "    message.ack()"
   ]
  },
  {
   "cell_type": "code",
   "execution_count": 76,
   "id": "84085014-2bbe-4d8e-a2f8-01f968378d2b",
   "metadata": {
    "tags": []
   },
   "outputs": [
    {
     "name": "stdout",
     "output_type": "stream",
     "text": [
      "Listening for messages on projects/grounded-gizmo-394701/subscriptions/subscribe_vertex...\n"
     ]
    }
   ],
   "source": [
    "# V2\n",
    "streaming_pull_future = subscriber.subscribe(subscription_path, callback=callback)\n",
    "print(f\"Listening for messages on {subscription_path}...\")"
   ]
  },
  {
   "cell_type": "code",
   "execution_count": 77,
   "id": "617c17a2-1a34-43d8-a5bc-7cb9930b3796",
   "metadata": {
    "tags": []
   },
   "outputs": [
    {
     "name": "stdout",
     "output_type": "stream",
     "text": [
      "Received message: {'key': 'SUST~166~4567892343~', 'customerId': 56789044, 'firstName': None, 'middleName': None, 'lastName': None, 'fullName': None, 'preferredLanguageCd': 'EN', 'createTs': '2023-08-24 00:00:00 UTC', 'creditValueCd': None, 'typeCd': None, 'subtypeCd': None, 'workPhoneNum': '324567543dfh', 'emailAddressTxt': 123, 'wirelessActiveServiceCnt': 2, 'wirelineActiveServiceCnt': 0, 'delinquencyInd': False, 'primaryAddressProvinceCd': None, 'wirelineOrderSubmitInd': False, 'wirelessServiceOnlyInd': False, 'wirelineServiceOnlyInd': False, 'optOutMarketingSmsInd': False, 'optOutMarketingSmsStartTs': None, 'optOutMarketingEmailInd': False, 'optOutMarketingEmailStartTs': None, 'vipInd': False, 'emergencyInd': False, 'daytimeContactNum': None, 'eveningContactNum': None, 'cellContactNum': None, 'otherCellContactNum': None, 'brandId': 2, 'teamMbrInd': False, 'authNameTxt': None, 'file_name': None, 'create_ts': '2023-08-24 00:00:00 UTC', 'create_user_id': 'etl_cust', 'last_updt_ts': '2023-08-24 00:00:00 UTC', 'last_updt_user_id': 'etl_cust', 'subscription_name': None, 'message_id': None, 'publish_time': None, 'attributes': None, 'data': 'null'}\n",
      "Received message: {'key': 'SUST~166~4567892343~', 'customerId': 56789043, 'firstName': None, 'middleName': None, 'lastName': None, 'fullName': None, 'preferredLanguageCd': 'EN', 'createTs': '2023-08-24 00:00:00 UTC', 'creditValueCd': None, 'typeCd': None, 'subtypeCd': None, 'workPhoneNum': '324567543dfh', 'emailAddressTxt': 123, 'wirelessActiveServiceCnt': 2, 'wirelineActiveServiceCnt': 0, 'delinquencyInd': False, 'primaryAddressProvinceCd': None, 'wirelineOrderSubmitInd': False, 'wirelessServiceOnlyInd': False, 'wirelineServiceOnlyInd': False, 'optOutMarketingSmsInd': False, 'optOutMarketingSmsStartTs': None, 'optOutMarketingEmailInd': False, 'optOutMarketingEmailStartTs': None, 'vipInd': False, 'emergencyInd': False, 'daytimeContactNum': None, 'eveningContactNum': None, 'cellContactNum': None, 'otherCellContactNum': None, 'brandId': 1, 'teamMbrInd': False, 'authNameTxt': None, 'file_name': None, 'create_ts': '2023-08-24 00:00:00 UTC', 'create_user_id': 'etl_cust', 'last_updt_ts': '2023-08-24 00:00:00 UTC', 'last_updt_user_id': 'etl_cust', 'subscription_name': None, 'message_id': None, 'publish_time': None, 'attributes': None, 'data': 'null'}\n",
      "Received message: {'key': 'SUST~166~4567892343~', 'customerId': 56789046, 'firstName': None, 'middleName': None, 'lastName': None, 'fullName': None, 'preferredLanguageCd': 'EN', 'createTs': '2023-08-24 00:00:00 UTC', 'creditValueCd': None, 'typeCd': None, 'subtypeCd': None, 'workPhoneNum': '324567543dfh', 'emailAddressTxt': 123, 'wirelessActiveServiceCnt': 2, 'wirelineActiveServiceCnt': 0, 'delinquencyInd': False, 'primaryAddressProvinceCd': None, 'wirelineOrderSubmitInd': False, 'wirelessServiceOnlyInd': False, 'wirelineServiceOnlyInd': False, 'optOutMarketingSmsInd': False, 'optOutMarketingSmsStartTs': None, 'optOutMarketingEmailInd': False, 'optOutMarketingEmailStartTs': None, 'vipInd': False, 'emergencyInd': False, 'daytimeContactNum': None, 'eveningContactNum': None, 'cellContactNum': None, 'otherCellContactNum': None, 'brandId': 4, 'teamMbrInd': False, 'authNameTxt': None, 'file_name': None, 'create_ts': '2023-08-24 00:00:00 UTC', 'create_user_id': 'etl_cust', 'last_updt_ts': '2023-08-24 00:00:00 UTC', 'last_updt_user_id': 'etl_cust', 'subscription_name': None, 'message_id': None, 'publish_time': None, 'attributes': None, 'data': 'null'}\n",
      "Received message: {'key': 'SUST~166~4567892343~', 'customerId': 56789047, 'firstName': None, 'middleName': None, 'lastName': None, 'fullName': None, 'preferredLanguageCd': 'EN', 'createTs': '2023-08-24 00:00:00 UTC', 'creditValueCd': None, 'typeCd': None, 'subtypeCd': None, 'workPhoneNum': '324567543dfh', 'emailAddressTxt': 123, 'wirelessActiveServiceCnt': 2, 'wirelineActiveServiceCnt': 0, 'delinquencyInd': False, 'primaryAddressProvinceCd': None, 'wirelineOrderSubmitInd': False, 'wirelessServiceOnlyInd': False, 'wirelineServiceOnlyInd': False, 'optOutMarketingSmsInd': False, 'optOutMarketingSmsStartTs': None, 'optOutMarketingEmailInd': False, 'optOutMarketingEmailStartTs': None, 'vipInd': False, 'emergencyInd': False, 'daytimeContactNum': None, 'eveningContactNum': None, 'cellContactNum': None, 'otherCellContactNum': None, 'brandId': 5, 'teamMbrInd': False, 'authNameTxt': None, 'file_name': None, 'create_ts': '2023-08-24 00:00:00 UTC', 'create_user_id': 'etl_cust', 'last_updt_ts': '2023-08-24 00:00:00 UTC', 'last_updt_user_id': 'etl_cust', 'subscription_name': None, 'message_id': None, 'publish_time': None, 'attributes': None, 'data': 'null'}\n",
      "Received message: {'key': 'SUST~166~4567892343~', 'customerId': 56789049, 'firstName': None, 'middleName': None, 'lastName': None, 'fullName': None, 'preferredLanguageCd': 'EN', 'createTs': '2023-08-24 00:00:00 UTC', 'creditValueCd': None, 'typeCd': None, 'subtypeCd': None, 'workPhoneNum': '324567543dfh', 'emailAddressTxt': 123, 'wirelessActiveServiceCnt': 2, 'wirelineActiveServiceCnt': 0, 'delinquencyInd': False, 'primaryAddressProvinceCd': None, 'wirelineOrderSubmitInd': False, 'wirelessServiceOnlyInd': False, 'wirelineServiceOnlyInd': False, 'optOutMarketingSmsInd': False, 'optOutMarketingSmsStartTs': None, 'optOutMarketingEmailInd': False, 'optOutMarketingEmailStartTs': None, 'vipInd': False, 'emergencyInd': False, 'daytimeContactNum': None, 'eveningContactNum': None, 'cellContactNum': None, 'otherCellContactNum': None, 'brandId': 7, 'teamMbrInd': False, 'authNameTxt': None, 'file_name': None, 'create_ts': '2023-08-24 00:00:00 UTC', 'create_user_id': 'etl_cust', 'last_updt_ts': '2023-08-24 00:00:00 UTC', 'last_updt_user_id': 'etl_cust', 'subscription_name': None, 'message_id': None, 'publish_time': None, 'attributes': None, 'data': 'null'}\n",
      "Received message: {'key': 'SUST~166~4567892343~', 'customerId': 56789050, 'firstName': None, 'middleName': None, 'lastName': None, 'fullName': None, 'preferredLanguageCd': 'EN', 'createTs': '2023-08-24 00:00:00 UTC', 'creditValueCd': None, 'typeCd': None, 'subtypeCd': None, 'workPhoneNum': '324567543dfh', 'emailAddressTxt': 123, 'wirelessActiveServiceCnt': 2, 'wirelineActiveServiceCnt': 0, 'delinquencyInd': False, 'primaryAddressProvinceCd': None, 'wirelineOrderSubmitInd': False, 'wirelessServiceOnlyInd': False, 'wirelineServiceOnlyInd': False, 'optOutMarketingSmsInd': False, 'optOutMarketingSmsStartTs': None, 'optOutMarketingEmailInd': False, 'optOutMarketingEmailStartTs': None, 'vipInd': False, 'emergencyInd': False, 'daytimeContactNum': None, 'eveningContactNum': None, 'cellContactNum': None, 'otherCellContactNum': None, 'brandId': 8, 'teamMbrInd': False, 'authNameTxt': None, 'file_name': None, 'create_ts': '2023-08-24 00:00:00 UTC', 'create_user_id': 'etl_cust', 'last_updt_ts': '2023-08-24 00:00:00 UTC', 'last_updt_user_id': 'etl_cust', 'subscription_name': None, 'message_id': None, 'publish_time': None, 'attributes': None, 'data': 'null'}\n",
      "triggered by keyboard interrupt,pull function exited\n"
     ]
    }
   ],
   "source": [
    "# V2\n",
    "\n",
    "with subscriber:\n",
    "    try:\n",
    "        streaming_pull_future.result()\n",
    "         # streaming_pull_future.result(timeout = 30)\n",
    "\n",
    "        print(f\"Listening for messages on {subscription_path} Done...\")\n",
    "    # if try does not work\n",
    "    except TimeoutError:\n",
    "        print(f\"We stopped the listening process due to the timeout \")\n",
    "        streaming_pull_future.cancel()\n",
    "    except KeyboardInterrupt:\n",
    "        print(f\"triggered by keyboard interrupt,pull function exited\")\n",
    "        streaming_pull_future.cancel()\n",
    "    except Exception as e:\n",
    "        print(f\"Listening for messages on {subscription_path} threw an exception: {type(e).__name__} .\\n\")\n",
    "        # print(f\"Traceback:\\n{traceback.format_exc()}\")\n",
    "    # except: \n",
    "    #     print(f\"callback did not work on {subscription_path}...\")\n",
    "    #     streaming_pull_future.cancel()  \n",
    "    #     streaming_pull_future.cancel()  \n",
    "    #     streaming_pull_future.cancel()  \n",
    "    #     streaming_pull_future.result()\n"
   ]
  },
  {
   "cell_type": "code",
   "execution_count": 79,
   "id": "d858ec68-4071-4a14-ac27-196b2da8d991",
   "metadata": {
    "tags": []
   },
   "outputs": [
    {
     "data": {
      "text/html": [
       "<div>\n",
       "<style scoped>\n",
       "    .dataframe tbody tr th:only-of-type {\n",
       "        vertical-align: middle;\n",
       "    }\n",
       "\n",
       "    .dataframe tbody tr th {\n",
       "        vertical-align: top;\n",
       "    }\n",
       "\n",
       "    .dataframe thead th {\n",
       "        text-align: right;\n",
       "    }\n",
       "</style>\n",
       "<table border=\"1\" class=\"dataframe\">\n",
       "  <thead>\n",
       "    <tr style=\"text-align: right;\">\n",
       "      <th></th>\n",
       "      <th>key</th>\n",
       "      <th>customerId</th>\n",
       "      <th>firstName</th>\n",
       "      <th>middleName</th>\n",
       "      <th>lastName</th>\n",
       "      <th>fullName</th>\n",
       "      <th>preferredLanguageCd</th>\n",
       "      <th>createTs</th>\n",
       "      <th>creditValueCd</th>\n",
       "      <th>typeCd</th>\n",
       "      <th>...</th>\n",
       "      <th>file_name</th>\n",
       "      <th>create_ts</th>\n",
       "      <th>create_user_id</th>\n",
       "      <th>last_updt_ts</th>\n",
       "      <th>last_updt_user_id</th>\n",
       "      <th>subscription_name</th>\n",
       "      <th>message_id</th>\n",
       "      <th>publish_time</th>\n",
       "      <th>attributes</th>\n",
       "      <th>data</th>\n",
       "    </tr>\n",
       "  </thead>\n",
       "  <tbody>\n",
       "    <tr>\n",
       "      <th>0</th>\n",
       "      <td>SUST~166~4567892343~</td>\n",
       "      <td>56789044</td>\n",
       "      <td>None</td>\n",
       "      <td>None</td>\n",
       "      <td>None</td>\n",
       "      <td>None</td>\n",
       "      <td>EN</td>\n",
       "      <td>2023-08-24 00:00:00 UTC</td>\n",
       "      <td>None</td>\n",
       "      <td>None</td>\n",
       "      <td>...</td>\n",
       "      <td>None</td>\n",
       "      <td>2023-08-24 00:00:00 UTC</td>\n",
       "      <td>etl_cust</td>\n",
       "      <td>2023-08-24 00:00:00 UTC</td>\n",
       "      <td>etl_cust</td>\n",
       "      <td>None</td>\n",
       "      <td>None</td>\n",
       "      <td>None</td>\n",
       "      <td>None</td>\n",
       "      <td>null</td>\n",
       "    </tr>\n",
       "    <tr>\n",
       "      <th>1</th>\n",
       "      <td>SUST~166~4567892343~</td>\n",
       "      <td>56789043</td>\n",
       "      <td>None</td>\n",
       "      <td>None</td>\n",
       "      <td>None</td>\n",
       "      <td>None</td>\n",
       "      <td>EN</td>\n",
       "      <td>2023-08-24 00:00:00 UTC</td>\n",
       "      <td>None</td>\n",
       "      <td>None</td>\n",
       "      <td>...</td>\n",
       "      <td>None</td>\n",
       "      <td>2023-08-24 00:00:00 UTC</td>\n",
       "      <td>etl_cust</td>\n",
       "      <td>2023-08-24 00:00:00 UTC</td>\n",
       "      <td>etl_cust</td>\n",
       "      <td>None</td>\n",
       "      <td>None</td>\n",
       "      <td>None</td>\n",
       "      <td>None</td>\n",
       "      <td>null</td>\n",
       "    </tr>\n",
       "    <tr>\n",
       "      <th>2</th>\n",
       "      <td>SUST~166~4567892343~</td>\n",
       "      <td>56789046</td>\n",
       "      <td>None</td>\n",
       "      <td>None</td>\n",
       "      <td>None</td>\n",
       "      <td>None</td>\n",
       "      <td>EN</td>\n",
       "      <td>2023-08-24 00:00:00 UTC</td>\n",
       "      <td>None</td>\n",
       "      <td>None</td>\n",
       "      <td>...</td>\n",
       "      <td>None</td>\n",
       "      <td>2023-08-24 00:00:00 UTC</td>\n",
       "      <td>etl_cust</td>\n",
       "      <td>2023-08-24 00:00:00 UTC</td>\n",
       "      <td>etl_cust</td>\n",
       "      <td>None</td>\n",
       "      <td>None</td>\n",
       "      <td>None</td>\n",
       "      <td>None</td>\n",
       "      <td>null</td>\n",
       "    </tr>\n",
       "    <tr>\n",
       "      <th>3</th>\n",
       "      <td>SUST~166~4567892343~</td>\n",
       "      <td>56789047</td>\n",
       "      <td>None</td>\n",
       "      <td>None</td>\n",
       "      <td>None</td>\n",
       "      <td>None</td>\n",
       "      <td>EN</td>\n",
       "      <td>2023-08-24 00:00:00 UTC</td>\n",
       "      <td>None</td>\n",
       "      <td>None</td>\n",
       "      <td>...</td>\n",
       "      <td>None</td>\n",
       "      <td>2023-08-24 00:00:00 UTC</td>\n",
       "      <td>etl_cust</td>\n",
       "      <td>2023-08-24 00:00:00 UTC</td>\n",
       "      <td>etl_cust</td>\n",
       "      <td>None</td>\n",
       "      <td>None</td>\n",
       "      <td>None</td>\n",
       "      <td>None</td>\n",
       "      <td>null</td>\n",
       "    </tr>\n",
       "    <tr>\n",
       "      <th>4</th>\n",
       "      <td>SUST~166~4567892343~</td>\n",
       "      <td>56789049</td>\n",
       "      <td>None</td>\n",
       "      <td>None</td>\n",
       "      <td>None</td>\n",
       "      <td>None</td>\n",
       "      <td>EN</td>\n",
       "      <td>2023-08-24 00:00:00 UTC</td>\n",
       "      <td>None</td>\n",
       "      <td>None</td>\n",
       "      <td>...</td>\n",
       "      <td>None</td>\n",
       "      <td>2023-08-24 00:00:00 UTC</td>\n",
       "      <td>etl_cust</td>\n",
       "      <td>2023-08-24 00:00:00 UTC</td>\n",
       "      <td>etl_cust</td>\n",
       "      <td>None</td>\n",
       "      <td>None</td>\n",
       "      <td>None</td>\n",
       "      <td>None</td>\n",
       "      <td>null</td>\n",
       "    </tr>\n",
       "    <tr>\n",
       "      <th>5</th>\n",
       "      <td>SUST~166~4567892343~</td>\n",
       "      <td>56789050</td>\n",
       "      <td>None</td>\n",
       "      <td>None</td>\n",
       "      <td>None</td>\n",
       "      <td>None</td>\n",
       "      <td>EN</td>\n",
       "      <td>2023-08-24 00:00:00 UTC</td>\n",
       "      <td>None</td>\n",
       "      <td>None</td>\n",
       "      <td>...</td>\n",
       "      <td>None</td>\n",
       "      <td>2023-08-24 00:00:00 UTC</td>\n",
       "      <td>etl_cust</td>\n",
       "      <td>2023-08-24 00:00:00 UTC</td>\n",
       "      <td>etl_cust</td>\n",
       "      <td>None</td>\n",
       "      <td>None</td>\n",
       "      <td>None</td>\n",
       "      <td>None</td>\n",
       "      <td>null</td>\n",
       "    </tr>\n",
       "  </tbody>\n",
       "</table>\n",
       "<p>6 rows × 43 columns</p>\n",
       "</div>"
      ],
      "text/plain": [
       "                    key  customerId firstName middleName lastName fullName  \\\n",
       "0  SUST~166~4567892343~    56789044      None       None     None     None   \n",
       "1  SUST~166~4567892343~    56789043      None       None     None     None   \n",
       "2  SUST~166~4567892343~    56789046      None       None     None     None   \n",
       "3  SUST~166~4567892343~    56789047      None       None     None     None   \n",
       "4  SUST~166~4567892343~    56789049      None       None     None     None   \n",
       "5  SUST~166~4567892343~    56789050      None       None     None     None   \n",
       "\n",
       "  preferredLanguageCd                 createTs creditValueCd typeCd  ...  \\\n",
       "0                  EN  2023-08-24 00:00:00 UTC          None   None  ...   \n",
       "1                  EN  2023-08-24 00:00:00 UTC          None   None  ...   \n",
       "2                  EN  2023-08-24 00:00:00 UTC          None   None  ...   \n",
       "3                  EN  2023-08-24 00:00:00 UTC          None   None  ...   \n",
       "4                  EN  2023-08-24 00:00:00 UTC          None   None  ...   \n",
       "5                  EN  2023-08-24 00:00:00 UTC          None   None  ...   \n",
       "\n",
       "  file_name                create_ts  create_user_id             last_updt_ts  \\\n",
       "0      None  2023-08-24 00:00:00 UTC        etl_cust  2023-08-24 00:00:00 UTC   \n",
       "1      None  2023-08-24 00:00:00 UTC        etl_cust  2023-08-24 00:00:00 UTC   \n",
       "2      None  2023-08-24 00:00:00 UTC        etl_cust  2023-08-24 00:00:00 UTC   \n",
       "3      None  2023-08-24 00:00:00 UTC        etl_cust  2023-08-24 00:00:00 UTC   \n",
       "4      None  2023-08-24 00:00:00 UTC        etl_cust  2023-08-24 00:00:00 UTC   \n",
       "5      None  2023-08-24 00:00:00 UTC        etl_cust  2023-08-24 00:00:00 UTC   \n",
       "\n",
       "   last_updt_user_id  subscription_name message_id  publish_time  attributes  \\\n",
       "0           etl_cust               None       None          None        None   \n",
       "1           etl_cust               None       None          None        None   \n",
       "2           etl_cust               None       None          None        None   \n",
       "3           etl_cust               None       None          None        None   \n",
       "4           etl_cust               None       None          None        None   \n",
       "5           etl_cust               None       None          None        None   \n",
       "\n",
       "   data  \n",
       "0  null  \n",
       "1  null  \n",
       "2  null  \n",
       "3  null  \n",
       "4  null  \n",
       "5  null  \n",
       "\n",
       "[6 rows x 43 columns]"
      ]
     },
     "metadata": {},
     "output_type": "display_data"
    }
   ],
   "source": [
    "# V2\n",
    "\n",
    "dft = pd.DataFrame(accumulated_data)\n",
    "\n",
    "display(dft)\n",
    "# print(accumulated_data)"
   ]
  },
  {
   "cell_type": "code",
   "execution_count": 109,
   "id": "b2117311-f422-4775-9a35-8b82f1a114a5",
   "metadata": {
    "tags": []
   },
   "outputs": [],
   "source": [
    "# request = PullRequest(subscription=subscription_path, max_messages=9)\n",
    "# response = subscriber.pull(request = request)"
   ]
  },
  {
   "cell_type": "code",
   "execution_count": 84,
   "id": "cff4a3f5-eff7-4f25-a41d-3ee5a86cb435",
   "metadata": {
    "tags": []
   },
   "outputs": [],
   "source": [
    "# messages = []\n",
    "# count = 0\n",
    "# for received_message in response.received_messages:\n",
    "#     print(f\"Received message: {received_message.message.data}\")\n",
    "#     count+=1\n",
    "    \n",
    "# print(count)"
   ]
  }
 ],
 "metadata": {
  "kernelspec": {
   "display_name": "Python [conda env:root] *",
   "language": "python",
   "name": "conda-root-py"
  },
  "language_info": {
   "codemirror_mode": {
    "name": "ipython",
    "version": 3
   },
   "file_extension": ".py",
   "mimetype": "text/x-python",
   "name": "python",
   "nbconvert_exporter": "python",
   "pygments_lexer": "ipython3",
   "version": "3.7.12"
  }
 },
 "nbformat": 4,
 "nbformat_minor": 5
}
